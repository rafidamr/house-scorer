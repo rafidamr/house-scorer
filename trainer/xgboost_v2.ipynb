{
 "cells": [
  {
   "cell_type": "code",
   "execution_count": 1,
   "metadata": {},
   "outputs": [],
   "source": [
    "import numpy as np\n",
    "import pandas as pd"
   ]
  },
  {
   "cell_type": "code",
   "execution_count": 2,
   "metadata": {},
   "outputs": [],
   "source": [
    "traindata_bounds = pd.read_csv('files/csv/traindata_bounds.csv')\n",
    "traindata = pd.DataFrame({'location': [], 'lat': [], 'lng': [], 'price_per_m2': []})"
   ]
  },
  {
   "cell_type": "code",
   "execution_count": 3,
   "metadata": {},
   "outputs": [],
   "source": [
    "for _, row in traindata_bounds.iterrows():\n",
    "    location, price_per_m2, ne_lat, ne_lng, sw_lat, sw_lng = row\n",
    "    width = ne_lng - sw_lng\n",
    "    height = ne_lat - sw_lat\n",
    "    a, b = max(width,height), min(width,height)\n",
    "    ratio = np.divide(a, b)\n",
    "    point_num = np.sqrt(np.divide(100,ratio))\n",
    "    stride = np.divide(b, point_num)\n",
    "    for lat in np.arange(sw_lat, ne_lat + stride, stride):\n",
    "        for lng in np.arange(sw_lng, ne_lng + stride, stride):\n",
    "            traindata.loc[len(traindata)] = [location, lat, lng, price_per_m2]"
   ]
  },
  {
   "cell_type": "code",
   "execution_count": null,
   "metadata": {},
   "outputs": [],
   "source": [
    "from sklearn.preprocessing import PolynomialFeatures, StandardScaler\n",
    "from sklearn.model_selection import train_test_split\n",
    "\n",
    "X_train, X_test, Y_train, Y_test = train_test_split(X, Y, test_size=0.2, random_state=2)"
   ]
  },
  {
   "cell_type": "code",
   "execution_count": null,
   "metadata": {},
   "outputs": [],
   "source": [
    "X_train = X_train.reset_index(drop=True)\n",
    "X_test = X_test.reset_index(drop=True)\n",
    "Y_train = Y_train.reset_index(drop=True)\n",
    "Y_test = Y_test.reset_index(drop=True)"
   ]
  },
  {
   "cell_type": "code",
   "execution_count": null,
   "metadata": {},
   "outputs": [],
   "source": [
    "scaler = StandardScaler().fit(X_train)\n",
    "X_train_scaled = scaler.transform(X_train)\n",
    "X_test_scaled = scaler.transform(X_test)\n",
    "Y_train_scaled = Y_train/1e4\n",
    "Y_test_scaled = Y_test/1e4"
   ]
  },
  {
   "cell_type": "code",
   "execution_count": null,
   "metadata": {},
   "outputs": [],
   "source": [
    "poly = PolynomialFeatures(degree=4).fit(X_train_scaled)\n",
    "X_train_scaled = poly.transform(X_train_scaled)\n",
    "X_test_scaled = poly.transform(X_test_scaled)"
   ]
  },
  {
   "cell_type": "code",
   "execution_count": null,
   "metadata": {},
   "outputs": [],
   "source": [
    "from xgboost import XGBRegressor\n",
    "from sklearn.model_selection import GridSearchCV\n",
    "\n",
    "# Initialize the model with appropriate hyperparameters\n",
    "model = XGBRegressor(\n",
    "    objective='reg:squarederror',  # Specify the loss function (MSE)\n",
    "    device=\"cuda\",\n",
    "    seed=42,\n",
    ")\n",
    "\n",
    "parameters = {\n",
    "    'max_depth': range(2, 10, 1),           # Maximum depth of each tree\n",
    "    'n_estimators': range(60, 220, 40),     # Number of boosting rounds (trees)\n",
    "    'learning_rate': [0.1, 0.01, 0.05]      # Learning rate (step size for updates)\n",
    "}\n",
    "\n",
    "model_cv = GridSearchCV(\n",
    "    estimator=model,\n",
    "    param_grid=parameters,\n",
    "    scoring='neg_mean_squared_error',\n",
    "    n_jobs=-1,\n",
    "    cv=10,\n",
    "    verbose=3\n",
    ")\n",
    "\n",
    "model_cv.fit(X_train_scaled, Y_train_scaled)\n"
   ]
  },
  {
   "cell_type": "code",
   "execution_count": null,
   "metadata": {},
   "outputs": [],
   "source": [
    "print(\"tuned hpyerparameters :(best parameters) \",model_cv.best_params_)\n",
    "print(\"accuracy :\",model_cv.best_score_)"
   ]
  },
  {
   "cell_type": "code",
   "execution_count": null,
   "metadata": {},
   "outputs": [],
   "source": [
    "model_cv.score(X_test_scaled, Y_test_scaled)"
   ]
  },
  {
   "cell_type": "code",
   "execution_count": null,
   "metadata": {},
   "outputs": [],
   "source": [
    "model_cv.device = \"cpu\"\n",
    "Y_pred = model_cv.predict(X_test_scaled) * 1e4\n",
    "val_error = Y_pred - Y_test"
   ]
  },
  {
   "cell_type": "code",
   "execution_count": null,
   "metadata": {},
   "outputs": [],
   "source": [
    "import seaborn as sns\n",
    "import matplotlib.pyplot as plt\n",
    "\n",
    "_, ax = plt.subplots(1,1, figsize=(12.5,3))\n",
    "sns.kdeplot(ax=ax, data=val_error.reset_index(drop=True).sort_values())\n",
    "\n",
    "plt.xlabel(\"price_per_m2 error\")\n",
    "plt.ylabel(\"Density\")\n",
    "plt.grid(True, alpha=0.6, linestyle=\"--\")\n",
    "plt.show()"
   ]
  },
  {
   "cell_type": "code",
   "execution_count": null,
   "metadata": {},
   "outputs": [],
   "source": [
    "Y_pred = model_cv.predict(X_test_scaled[300].reshape(1,15)) * 1e4\n",
    "\"{:,}\".format(int(Y_pred[0])).replace(\",\", \".\"), \"{:,}\".format(int(Y_test[300])).replace(\",\", \".\")"
   ]
  },
  {
   "cell_type": "code",
   "execution_count": null,
   "metadata": {},
   "outputs": [],
   "source": []
  }
 ],
 "metadata": {
  "kernelspec": {
   "display_name": "Python 3 (ipykernel)",
   "language": "python",
   "name": "python3"
  },
  "language_info": {
   "codemirror_mode": {
    "name": "ipython",
    "version": 3
   },
   "file_extension": ".py",
   "mimetype": "text/x-python",
   "name": "python",
   "nbconvert_exporter": "python",
   "pygments_lexer": "ipython3",
   "version": "3.12.4"
  }
 },
 "nbformat": 4,
 "nbformat_minor": 2
}
