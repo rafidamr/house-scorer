{
 "cells": [
  {
   "cell_type": "code",
   "execution_count": null,
   "metadata": {},
   "outputs": [],
   "source": [
    "import pandas as pd\n",
    "\n",
    "traindata = pd.read_csv('files/csv/traindata.csv')\n",
    "X = traindata[['lat', 'lng']]\n",
    "Y = traindata['price_per_m2']"
   ]
  },
  {
   "cell_type": "code",
   "execution_count": null,
   "metadata": {},
   "outputs": [],
   "source": [
    "import random\n",
    "\n",
    "def get_lat(lat):\n",
    "    return lat + random.uniform(-0.000406,0.000406)\n",
    "\n",
    "def get_lng(lng):\n",
    "    return lng + random.uniform(-0.000306,0.000306)\n",
    "\n",
    "X['lat'] = X['lat'].apply(get_lat)\n",
    "X['lng'] = X['lng'].apply(get_lng)\n",
    "\n",
    "# traindata_unique = traindata.groupby(['lat', 'lng']).quantile(q=0.5).reset_index()\n",
    "# traindata_unique.sort_values(by='price_per_m2')['price_per_m2'].sum(axis=0)\n",
    "# X = traindata_unique[['lat', 'lng']].to_numpy()\n",
    "# Y = traindata_unique['price_per_m2'].to_numpy()"
   ]
  },
  {
   "cell_type": "code",
   "execution_count": null,
   "metadata": {},
   "outputs": [],
   "source": [
    "from sklearn.linear_model import LinearRegression\n",
    "from sklearn.preprocessing import PolynomialFeatures, StandardScaler\n",
    "from sklearn.model_selection import cross_val_score, train_test_split\n",
    "\n",
    "X_train, X_val, Y_train, Y_val = train_test_split(X, Y, test_size=0.2, random_state=2)"
   ]
  },
  {
   "cell_type": "code",
   "execution_count": null,
   "metadata": {},
   "outputs": [],
   "source": [
    "scaler = StandardScaler()\n",
    "X_train_scaled = scaler.fit_transform(X_train)\n",
    "Y_train_scaled = Y_train/1e4"
   ]
  },
  {
   "cell_type": "code",
   "execution_count": null,
   "metadata": {},
   "outputs": [],
   "source": [
    "scaled = traindata_unique[0:]\n",
    "scaled['lat'] = (traindata_unique['lat'] - traindata_unique['lat'].min()) / (traindata_unique['lat'].max() - traindata_unique['lat'].min())\n",
    "scaled['lng'] = (traindata_unique['lng'] - traindata_unique['lng'].min()) / (traindata_unique['lng'].max() - traindata_unique['lng'].min())\n",
    "scaled['price_per_m2'] = traindata_unique['price_per_m2'] / 2e5\n",
    "scaled.describe()"
   ]
  },
  {
   "cell_type": "code",
   "execution_count": null,
   "metadata": {},
   "outputs": [],
   "source": [
    "scaled = scaled.sample(frac=1, random_state=10).reset_index(drop=True)"
   ]
  },
  {
   "cell_type": "code",
   "execution_count": null,
   "metadata": {},
   "outputs": [],
   "source": [
    "traindata['price_per_m2'] = (traindata['price_per_m2'] - traindata['price_per_m2'].min()) / (traindata['price_per_m2'].max() - traindata['price_per_m2'].min())\n",
    "traindata['lat'] = (traindata['lat'] - traindata['lat'].min()) / (traindata['lat'].max() - traindata['lat'].min())\n",
    "traindata['lng'] = (traindata['lng'] - traindata['lng'].min()) / (traindata['lng'].max() - traindata['lng'].min())"
   ]
  },
  {
   "cell_type": "code",
   "execution_count": null,
   "metadata": {},
   "outputs": [],
   "source": [
    "import tensorflow as tf\n",
    "from tensorflow.keras.models import Sequential\n",
    "from tensorflow.keras.layers import Dense\n",
    "from tensorflow.keras.activations import linear, relu, sigmoid\n",
    "\n",
    "import logging\n",
    "logging.getLogger(\"tensorflow\").setLevel(logging.ERROR)\n",
    "tf.autograph.set_verbosity(0)\n",
    "tf.random.set_seed(1234) # for consistent results"
   ]
  },
  {
   "cell_type": "code",
   "execution_count": null,
   "metadata": {},
   "outputs": [],
   "source": [
    "model = Sequential(\n",
    "    [               \n",
    "        ### START CODE HERE ### \n",
    "        tf.keras.Input(shape=(2,)),\n",
    "        tf.keras.layers.Dense(1, activation=\"linear\"),\n",
    "        ### END CODE HERE ### \n",
    "    ], name = \"my_model\" \n",
    ")"
   ]
  },
  {
   "cell_type": "code",
   "execution_count": null,
   "metadata": {},
   "outputs": [],
   "source": [
    "lr_schedule = tf.keras.optimizers.schedules.ExponentialDecay(\n",
    "    initial_learning_rate=0.01,\n",
    "    decay_steps=1000,\n",
    "    decay_rate=0.9\n",
    ")\n",
    "\n",
    "optimizer = tf.keras.optimizers.SGD(learning_rate=lr_schedule)\n",
    "\n",
    "model.compile(\n",
    "    loss=tf.keras.losses.MeanSquaredError(),\n",
    "    optimizer=optimizer,\n",
    ")\n",
    "\n",
    "history = model.fit(\n",
    "    X_train_scaled,\n",
    "    Y_train_scaled.to_numpy().reshape(-1,1),\n",
    "    epochs=50\n",
    ")"
   ]
  },
  {
   "cell_type": "code",
   "execution_count": null,
   "metadata": {},
   "outputs": [],
   "source": [
    "scaler_val = StandardScaler()\n",
    "X_val = scaler_val.fit_transform(X_val)"
   ]
  },
  {
   "cell_type": "code",
   "execution_count": null,
   "metadata": {},
   "outputs": [],
   "source": [
    "X_train_ori = scaler.inverse_transform(X_train_scaled[8].reshape(1,2))\n",
    "X_train_ori"
   ]
  },
  {
   "cell_type": "code",
   "execution_count": null,
   "metadata": {},
   "outputs": [],
   "source": [
    "Y_train.reset_index(drop=True)[8]"
   ]
  },
  {
   "cell_type": "code",
   "execution_count": null,
   "metadata": {},
   "outputs": [],
   "source": [
    "res = model.predict(X_train_scaled[8].reshape(1,2)) * 1e4\n",
    "res"
   ]
  },
  {
   "cell_type": "code",
   "execution_count": null,
   "metadata": {},
   "outputs": [],
   "source": [
    "traindata_unique['price_per_m2'].to_numpy().reshape(-1,1) - res"
   ]
  },
  {
   "cell_type": "code",
   "execution_count": null,
   "metadata": {},
   "outputs": [],
   "source": [
    "prediction = model.predict(X_train[20].reshape(1,2))  # prediction\n",
    "print(f\"prediction: {prediction.flatten()}\")\n",
    "print(f\"real: {Y_train[20]}\")\n",
    "print(f\"prediction error: {prediction.flatten() - Y_train[20]}\")"
   ]
  }
 ],
 "metadata": {
  "kernelspec": {
   "display_name": "Python 3 (ipykernel)",
   "language": "python",
   "name": "python3"
  },
  "language_info": {
   "codemirror_mode": {
    "name": "ipython",
    "version": 3
   },
   "file_extension": ".py",
   "mimetype": "text/x-python",
   "name": "python",
   "nbconvert_exporter": "python",
   "pygments_lexer": "ipython3",
   "version": "3.12.4"
  }
 },
 "nbformat": 4,
 "nbformat_minor": 2
}
