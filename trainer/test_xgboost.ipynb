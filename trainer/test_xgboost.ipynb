{
 "cells": [
  {
   "cell_type": "code",
   "execution_count": null,
   "metadata": {},
   "outputs": [],
   "source": [
    "import pandas as pd\n",
    "\n",
    "traindata = pd.read_csv('files/csv/traindata.csv')\n",
    "X = traindata[['lat', 'lng']]\n",
    "Y = traindata['price_per_m2']"
   ]
  },
  {
   "cell_type": "code",
   "execution_count": null,
   "metadata": {},
   "outputs": [],
   "source": [
    "import random\n",
    "\n",
    "def get_lat(lat):\n",
    "    return lat + random.uniform(-0.000406*5, 0.000406*5)\n",
    "\n",
    "def get_lng(lng):\n",
    "    return lng + random.uniform(-0.000306*5, 0.000306*5)\n",
    "\n",
    "traindata_unique = traindata.groupby(['lat', 'lng']).quantile(q=0.5).reset_index()\n",
    "traindata_dup = pd.concat([traindata_unique] * 100, ignore_index=True)\n",
    "X = traindata_dup[['lat', 'lng']]\n",
    "X['lat'] = X['lat'].apply(get_lat)\n",
    "X['lng'] = X['lng'].apply(get_lng)\n",
    "Y = traindata_dup['price_per_m2']"
   ]
  },
  {
   "cell_type": "code",
   "execution_count": null,
   "metadata": {},
   "outputs": [],
   "source": [
    "import joblib\n",
    "\n",
    "with open('files/pkl/model_v1.pkl', 'rb') as f:\n",
    "    model = joblib.load(f)\n",
    "    Y_pred = model.predict(X_scaled) * 1e4\n",
    "    val_error = Y_pred - Y"
   ]
  },
  {
   "cell_type": "code",
   "execution_count": null,
   "metadata": {},
   "outputs": [],
   "source": [
    "# for pred, actual in zip(Y_pred, Y[100:103]):\n",
    "#     print(\"pred: {:,}\".format(int(pred)).replace(\",\", \".\"))\n",
    "#     print(\"actual: {:,}\".format(int(actual)).replace(\",\", \".\"))"
   ]
  },
  {
   "cell_type": "code",
   "execution_count": null,
   "metadata": {},
   "outputs": [],
   "source": [
    "import seaborn as sns\n",
    "import matplotlib.pyplot as plt\n",
    "\n",
    "_, ax = plt.subplots(1,1, figsize=(12.5,3))\n",
    "sns.kdeplot(ax=ax, data=val_error.reset_index(drop=True).sort_values())\n",
    "\n",
    "plt.xlabel(\"price_per_m2 error\")\n",
    "plt.ylabel(\"Density\")\n",
    "plt.grid(True, alpha=0.6, linestyle=\"--\")\n",
    "plt.show()"
   ]
  },
  {
   "cell_type": "code",
   "execution_count": 138,
   "metadata": {},
   "outputs": [],
   "source": [
    "with open('files/pkl/scaler.pkl', 'rb') as f:\n",
    "    scaler = joblib.load(f)\n",
    "\n",
    "with open('files/pkl/poly.pkl', 'rb') as f:\n",
    "    poly = joblib.load(f)\n",
    "\n",
    "with open('files/pkl/model_v2.pkl', 'rb') as f:\n",
    "    model = joblib.load(f)"
   ]
  },
  {
   "cell_type": "code",
   "execution_count": 145,
   "metadata": {},
   "outputs": [
    {
     "name": "stderr",
     "output_type": "stream",
     "text": [
      "/home/techlead/projects/house-scorer/.venv/lib/python3.12/site-packages/sklearn/base.py:493: UserWarning: X does not have valid feature names, but StandardScaler was fitted with feature names\n",
      "  warnings.warn(\n"
     ]
    },
    {
     "data": {
      "text/plain": [
       "array([9874365.], dtype=float32)"
      ]
     },
     "execution_count": 145,
     "metadata": {},
     "output_type": "execute_result"
    },
    {
     "ename": "",
     "evalue": "",
     "output_type": "error",
     "traceback": [
      "\u001b[1;31mThe Kernel crashed while executing code in the current cell or a previous cell. \n",
      "\u001b[1;31mPlease review the code in the cell(s) to identify a possible cause of the failure. \n",
      "\u001b[1;31mClick <a href='https://aka.ms/vscodeJupyterKernelCrash'>here</a> for more info. \n",
      "\u001b[1;31mView Jupyter <a href='command:jupyter.viewOutput'>log</a> for further details."
     ]
    }
   ],
   "source": [
    "import numpy as np\n",
    "test = np.array([-6.866124, 107.475593]).reshape(1,2)\n",
    "test = scaler.transform(test)\n",
    "test = poly.transform(test)\n",
    "model.predict(test) * 1e4"
   ]
  }
 ],
 "metadata": {
  "kernelspec": {
   "display_name": "Python 3 (ipykernel)",
   "language": "python",
   "name": "python3"
  }
 },
 "nbformat": 4,
 "nbformat_minor": 2
}
