{
 "cells": [
  {
   "cell_type": "code",
   "execution_count": 48,
   "id": "22668955-963a-499a-8c1d-be99203679a3",
   "metadata": {},
   "outputs": [],
   "source": [
    "import httpx\n",
    "import pandas as pd\n",
    "from bs4 import BeautifulSoup\n",
    "\n",
    "from data_collector.utils import to_df\n",
    "from data_collector.user_agents import user_agents"
   ]
  },
  {
   "cell_type": "code",
   "execution_count": 6,
   "id": "2d366112",
   "metadata": {},
   "outputs": [],
   "source": [
    "timeout = httpx.Timeout(5, read=10)\n",
    "params = dict()\n",
    "async with httpx.AsyncClient(timeout=timeout) as client:\n",
    "    for i in range(2):\n",
    "        params['page'] = i\n",
    "        r = await client.get(\"https://www.rumah123.com/jual/bandung/tanah/\", params=params)\n",
    "        soup = BeautifulSoup(r.text, \"html.parser\")\n",
    "        divs = soup.find_all('div', class_='card-featured__middle-section')\n",
    "        df = to_df(divs)\n",
    "        df.to_csv('csv/house_price_temp.csv', mode='a', index=False, header=False)"
   ]
  },
  {
   "cell_type": "code",
   "execution_count": 3,
   "id": "d15eb382",
   "metadata": {},
   "outputs": [
    {
     "data": {
      "text/plain": [
       "'Tanah Murah Strategis Dalam Komplek Antapani Bandung'"
      ]
     },
     "execution_count": 3,
     "metadata": {},
     "output_type": "execute_result"
    }
   ],
   "source": [
    "df.iloc[1,5]"
   ]
  },
  {
   "cell_type": "code",
   "execution_count": 41,
   "id": "d5f9846a",
   "metadata": {},
   "outputs": [
    {
     "data": {
      "text/plain": [
       "'Rp 15 Juta /m²'"
      ]
     },
     "execution_count": 41,
     "metadata": {},
     "output_type": "execute_result"
    }
   ],
   "source": [
    "import re\n",
    "d = pd.read_csv('csv/house_price_raw.csv', header=None)\n",
    "\n",
    "x = d.iloc[2619,0]\n",
    "x"
   ]
  },
  {
   "cell_type": "code",
   "execution_count": 36,
   "id": "0ec943b5",
   "metadata": {},
   "outputs": [],
   "source": [
    "result = re.search(r'Rp.(.*?)/m²', x).group(1)"
   ]
  },
  {
   "cell_type": "code",
   "execution_count": 44,
   "id": "e453800b",
   "metadata": {},
   "outputs": [
    {
     "data": {
      "text/html": [
       "<div>\n",
       "<style scoped>\n",
       "    .dataframe tbody tr th:only-of-type {\n",
       "        vertical-align: middle;\n",
       "    }\n",
       "\n",
       "    .dataframe tbody tr th {\n",
       "        vertical-align: top;\n",
       "    }\n",
       "\n",
       "    .dataframe thead th {\n",
       "        text-align: right;\n",
       "    }\n",
       "</style>\n",
       "<table border=\"1\" class=\"dataframe\">\n",
       "  <thead>\n",
       "    <tr style=\"text-align: right;\">\n",
       "      <th></th>\n",
       "      <th>0</th>\n",
       "      <th>1</th>\n",
       "      <th>2</th>\n",
       "      <th>3</th>\n",
       "      <th>4</th>\n",
       "      <th>5</th>\n",
       "    </tr>\n",
       "  </thead>\n",
       "  <tbody>\n",
       "    <tr>\n",
       "      <th>2615</th>\n",
       "      <td>Rp 620 Juta /m²</td>\n",
       "      <td>Terusan Buah Batu, Bandung</td>\n",
       "      <td>132 m²</td>\n",
       "      <td>NaN</td>\n",
       "      <td>/properti/bandung/las3383567/</td>\n",
       "      <td>Tanah Sertifikat Hak Milik 132 m² di Buahbatu ...</td>\n",
       "    </tr>\n",
       "    <tr>\n",
       "      <th>2616</th>\n",
       "      <td>Rp 7,2 Juta /m²</td>\n",
       "      <td>Dago, Bandung</td>\n",
       "      <td>519 m²</td>\n",
       "      <td>One Realty Elite logo</td>\n",
       "      <td>/properti/bandung/las3373828/</td>\n",
       "      <td>Kavling di Resort dago pakar</td>\n",
       "    </tr>\n",
       "    <tr>\n",
       "      <th>2617</th>\n",
       "      <td>Rp 6 Juta /m²</td>\n",
       "      <td>Gede Bage, Bandung</td>\n",
       "      <td>35000 m²</td>\n",
       "      <td>NaN</td>\n",
       "      <td>/properti/bandung/las3373805/</td>\n",
       "      <td>Tanah di Jl gedebage</td>\n",
       "    </tr>\n",
       "    <tr>\n",
       "      <th>2618</th>\n",
       "      <td>Rp 4 Juta /m²</td>\n",
       "      <td>Setiabudi, Bandung</td>\n",
       "      <td>1154 m²</td>\n",
       "      <td>Discovery Bandung logo</td>\n",
       "      <td>/properti/bandung/las3364079/</td>\n",
       "      <td>Kavling Luas cocok untuk villa atau cafe</td>\n",
       "    </tr>\n",
       "    <tr>\n",
       "      <th>2619</th>\n",
       "      <td>Rp 15 Juta /m²</td>\n",
       "      <td>Pasteur, Bandung</td>\n",
       "      <td>342 m²</td>\n",
       "      <td>ERA Inno logo</td>\n",
       "      <td>/properti/bandung/las3363827/</td>\n",
       "      <td>Dijual Tanah Kotak di Kumala Garden Dekat Tol ...</td>\n",
       "    </tr>\n",
       "  </tbody>\n",
       "</table>\n",
       "</div>"
      ],
      "text/plain": [
       "                    0                           1         2  \\\n",
       "2615  Rp 620 Juta /m²  Terusan Buah Batu, Bandung    132 m²   \n",
       "2616  Rp 7,2 Juta /m²               Dago, Bandung    519 m²   \n",
       "2617    Rp 6 Juta /m²          Gede Bage, Bandung  35000 m²   \n",
       "2618    Rp 4 Juta /m²          Setiabudi, Bandung   1154 m²   \n",
       "2619   Rp 15 Juta /m²            Pasteur, Bandung    342 m²   \n",
       "\n",
       "                           3                              4  \\\n",
       "2615                     NaN  /properti/bandung/las3383567/   \n",
       "2616   One Realty Elite logo  /properti/bandung/las3373828/   \n",
       "2617                     NaN  /properti/bandung/las3373805/   \n",
       "2618  Discovery Bandung logo  /properti/bandung/las3364079/   \n",
       "2619           ERA Inno logo  /properti/bandung/las3363827/   \n",
       "\n",
       "                                                      5  \n",
       "2615  Tanah Sertifikat Hak Milik 132 m² di Buahbatu ...  \n",
       "2616                       Kavling di Resort dago pakar  \n",
       "2617                               Tanah di Jl gedebage  \n",
       "2618           Kavling Luas cocok untuk villa atau cafe  \n",
       "2619  Dijual Tanah Kotak di Kumala Garden Dekat Tol ...  "
      ]
     },
     "execution_count": 44,
     "metadata": {},
     "output_type": "execute_result"
    }
   ],
   "source": [
    "d.tail()"
   ]
  },
  {
   "cell_type": "code",
   "execution_count": 46,
   "id": "66e9a473",
   "metadata": {},
   "outputs": [
    {
     "data": {
      "text/plain": [
       "[<div class=\"card-featured__middle-section\" data-test-id=\"card-middle-section\"><div class=\"card-featured__middle-section__header\"><div class=\"card-featured__middle-section__header-badge\"><div data-test-id=\"badge-depth\">Tanah</div><div class=\"featured\" data-test-id=\"badge-depth\">Featured</div></div></div><div class=\"card-featured__middle-section__price\"><strong>Rp 11 Juta /m²</strong></div><button class=\"card-featured__middle-section__installment\"><svg height=\"18px\" viewbox=\"0 0 16 20\" width=\"18px\"><use fill=\"#2951a3\" xlink:href=\"#nrui-calculator-v2\"></use></svg><span>Simulasi KPR</span><svg class=\"arrow\" height=\"17px\" viewbox=\"0 0 16 17\" width=\"16px\"><use fill=\"#2951a3\" xlink:href=\"#nrui-arrow-left-small\"></use></svg></button><a href=\"/properti/bandung/las3503125/\" target=\"_blank\" title=\"Cepat Kavling Langka di Punawangi Kota Baru Parahyangan\"><h2>Cepat Kavling Langka di Punawangi Kota Baru Parahyangan</h2></a><span>Kota Baru Parahyangan, Bandung</span><div class=\"card-featured__middle-section__attribute\"><div class=\"attribute-info\"> : <span>308 m²</span></div></div><img alt=\"Discovery Bandung logo\" decoding=\"sync\" loading=\"lazy\" src=\"https://pic.rumah123.com/r123/170x170-fit/logo/20210831043415_discovery_property_bandung.png\"/><p>Kavling Langka di Punawangi Kota Baru Parahyangan - Tanah Datar - View Taman Bermain - Luas Tanah...</p></div>,\n",
       " <div class=\"card-featured__middle-section\" data-test-id=\"card-middle-section\"><div class=\"card-featured__middle-section__header\"><div class=\"card-featured__middle-section__header-badge\"><div data-test-id=\"badge-depth\">Tanah</div><div class=\"featured\" data-test-id=\"badge-depth\">Featured</div></div></div><div class=\"card-featured__middle-section__price\"><strong>Rp 9,3 Juta /m²</strong></div><button class=\"card-featured__middle-section__installment\"><svg height=\"18px\" viewbox=\"0 0 16 20\" width=\"18px\"><use fill=\"#2951a3\" xlink:href=\"#nrui-calculator-v2\"></use></svg><span>Simulasi KPR</span><svg class=\"arrow\" height=\"17px\" viewbox=\"0 0 16 17\" width=\"16px\"><use fill=\"#2951a3\" xlink:href=\"#nrui-arrow-left-small\"></use></svg></button><a href=\"/properti/bandung/las4005903/\" target=\"_blank\" title=\"Kav Kodya Dekat Tsm Mobil\"><h2>Kav Kodya Dekat Tsm Mobil</h2></a><span>Batununggal, Bandung</span><div class=\"card-featured__middle-section__attribute\"><div class=\"attribute-info\"> : <span>290 m²</span></div></div><p>Kavling kodya Di area perumahan Asri Jalan akses mobil 2 arah Dekat TSM Dekat kampus2 Cocok buat...</p></div>,\n",
       " <div class=\"card-featured__middle-section\" data-test-id=\"card-middle-section\"><div class=\"card-featured__middle-section__header\"><div class=\"card-featured__middle-section__header-badge\"><div data-test-id=\"badge-depth\">Tanah</div><div class=\"featured\" data-test-id=\"badge-depth\">Featured</div></div></div><div class=\"card-featured__middle-section__price\"><strong>Rp 5,4 Juta /m²</strong></div><button class=\"card-featured__middle-section__installment\"><svg height=\"18px\" viewbox=\"0 0 16 20\" width=\"18px\"><use fill=\"#2951a3\" xlink:href=\"#nrui-calculator-v2\"></use></svg><span>Simulasi KPR</span><svg class=\"arrow\" height=\"17px\" viewbox=\"0 0 16 17\" width=\"16px\"><use fill=\"#2951a3\" xlink:href=\"#nrui-arrow-left-small\"></use></svg></button><a href=\"/properti/bandung/las4005859/\" target=\"_blank\" title=\"Kav Mandalajati Njop\"><h2>Kav Mandalajati Njop</h2></a><span>Mandalajati, Bandung</span><div class=\"card-featured__middle-section__attribute\"><div class=\"attribute-info\"> : <span>7045 m²</span></div></div><p>Kavling Mainroad utama Tanah padat kering Lebar muka besar 32m Siap bangun Strategis dan ramai...</p></div>,\n",
       " <div class=\"card-featured__middle-section\" data-test-id=\"card-middle-section\"><div class=\"card-featured__middle-section__header\"><div class=\"card-featured__middle-section__header-badge\"><div data-test-id=\"badge-depth\">Tanah</div><div class=\"featured\" data-test-id=\"badge-depth\">Featured</div></div></div><div class=\"card-featured__middle-section__price\"><strong>Rp 8 Juta /m²</strong></div><button class=\"card-featured__middle-section__installment\"><svg height=\"18px\" viewbox=\"0 0 16 20\" width=\"18px\"><use fill=\"#2951a3\" xlink:href=\"#nrui-calculator-v2\"></use></svg><span>Simulasi KPR</span><svg class=\"arrow\" height=\"17px\" viewbox=\"0 0 16 17\" width=\"16px\"><use fill=\"#2951a3\" xlink:href=\"#nrui-arrow-left-small\"></use></svg></button><a href=\"/properti/bandung/las3995474/\" target=\"_blank\" title=\"Kavling Dago Pakar Seberang Sekolah Bbs\"><h2>Kavling Dago Pakar Seberang Sekolah Bbs</h2></a><span>Dago Pakar, Bandung</span><div class=\"card-featured__middle-section__attribute\"><div class=\"attribute-info\"> : <span>10000 m²</span></div></div><img alt=\"Discovery Bandung logo\" decoding=\"sync\" loading=\"lazy\" src=\"https://pic.rumah123.com/r123/170x170-fit/logo/20210831043415_discovery_property_bandung.png\"/><p>Jual Kavling dago pakar Seberang sekolah bbs Luas tanah 1 hektar Harga 8 jt/m (nego) For More Information...</p></div>,\n",
       " <div class=\"card-featured__middle-section\" data-test-id=\"card-middle-section\"><div class=\"card-featured__middle-section__header\"><div class=\"card-featured__middle-section__header-badge\"><div data-test-id=\"badge-depth\">Tanah</div><div class=\"featured\" data-test-id=\"badge-depth\">Featured</div></div></div><div class=\"card-featured__middle-section__price\"><strong>Rp 3,5 Juta /m²</strong></div><button class=\"card-featured__middle-section__installment\"><svg height=\"18px\" viewbox=\"0 0 16 20\" width=\"18px\"><use fill=\"#2951a3\" xlink:href=\"#nrui-calculator-v2\"></use></svg><span>Simulasi KPR</span><svg class=\"arrow\" height=\"17px\" viewbox=\"0 0 16 17\" width=\"16px\"><use fill=\"#2951a3\" xlink:href=\"#nrui-arrow-left-small\"></use></svg></button><a href=\"/properti/bandung/las3997264/\" target=\"_blank\" title=\"Tanah Luas Murah Strategis di Sekekumbung Sayap Tki Kopo Bandung\"><h2>Tanah Luas Murah Strategis di Sekekumbung Sayap Tki Kopo Bandung</h2></a><span>Kopo, Bandung</span><div class=\"card-featured__middle-section__attribute\"><div class=\"attribute-info\"> : <span>2995 m²</span></div></div><img alt=\"SAP GROUP logo\" decoding=\"sync\" loading=\"lazy\" src=\"https://pic.rumah123.com/r123/170x170-fit/logo/20220825024736_sinar_anugrah_propertindo.jpeg\"/><p>Dijual Tanah di Sekekumbung sayap TKI Luas tanah 2.995 Lebar muka +/- 40 mtr Listrik 5.000 watt Harga...</p></div>,\n",
       " <div class=\"card-featured__middle-section\" data-test-id=\"card-middle-section\"><div class=\"card-featured__middle-section__header\"><div class=\"card-featured__middle-section__header-badge\"><div data-test-id=\"badge-depth\">Tanah</div><div class=\"featured\" data-test-id=\"badge-depth\">Featured</div></div></div><div class=\"card-featured__middle-section__price\"><strong>Rp 2 Juta /m²</strong></div><button class=\"card-featured__middle-section__installment\"><svg height=\"18px\" viewbox=\"0 0 16 20\" width=\"18px\"><use fill=\"#2951a3\" xlink:href=\"#nrui-calculator-v2\"></use></svg><span>Simulasi KPR</span><svg class=\"arrow\" height=\"17px\" viewbox=\"0 0 16 17\" width=\"16px\"><use fill=\"#2951a3\" xlink:href=\"#nrui-arrow-left-small\"></use></svg></button><a href=\"/properti/bandung/las3925326/\" target=\"_blank\" title=\"Tanah kebun Bandung Utara udara sangat sejuk SHM\"><h2>Tanah kebun Bandung Utara udara sangat sejuk SHM</h2></a><span>Bandung Utara, Bandung</span><div class=\"card-featured__middle-section__attribute\"><div class=\"attribute-info\"> : <span>6789 m²</span></div></div><img alt=\"ERA Bandung logo\" decoding=\"sync\" loading=\"lazy\" src=\"https://pic.rumah123.com/r123/170x170-fit/logo/166_logosubcomp_1436514721.jpg\"/><p>Tanah Kebun, Lokasi sangat Sejuk, View Kota Bandung Cocok untuk Investasi, Villa, Cafe, Dekat tempat...</p></div>,\n",
       " <div class=\"card-featured__middle-section\" data-test-id=\"card-middle-section\"><div class=\"card-featured__middle-section__header\"><div class=\"card-featured__middle-section__header-badge\"><div data-test-id=\"badge-depth\">Tanah</div><div class=\"featured\" data-test-id=\"badge-depth\">Featured</div></div></div><div class=\"card-featured__middle-section__price\"><strong>Rp 3,44 Miliar Total</strong></div><button class=\"card-featured__middle-section__installment\"><svg height=\"18px\" viewbox=\"0 0 16 20\" width=\"18px\"><use fill=\"#2951a3\" xlink:href=\"#nrui-calculator-v2\"></use></svg><span>Simulasi KPR</span><svg class=\"arrow\" height=\"17px\" viewbox=\"0 0 16 17\" width=\"16px\"><use fill=\"#2951a3\" xlink:href=\"#nrui-arrow-left-small\"></use></svg></button><a href=\"/properti/bandung/las2471549/\" target=\"_blank\" title=\"Tanah Setra Duta Bandung Strategis Ukuran Pas 13.5 Juta m2\"><h2>Tanah Setra Duta Bandung Strategis Ukuran Pas 13.5 Juta m2</h2></a><span>Setra Duta, Bandung</span><div class=\"card-featured__middle-section__attribute\"><div class=\"attribute-info\"> : <span>255 m²</span></div></div><img alt=\"Discovery Bandung logo\" decoding=\"sync\" loading=\"lazy\" src=\"https://pic.rumah123.com/r123/170x170-fit/logo/20210831043415_discovery_property_bandung.png\"/><p>Listing ini merupakan Verified Listing 99 Group (Rumah123 &amp; 99) Tim 99 Group sudah melakukan pengecekan...</p></div>,\n",
       " <div class=\"card-featured__middle-section\" data-test-id=\"card-middle-section\"><div class=\"card-featured__middle-section__header\"><div class=\"card-featured__middle-section__header-badge\"><div data-test-id=\"badge-depth\">Tanah</div><div class=\"featured\" data-test-id=\"badge-depth\">Featured</div></div></div><div class=\"card-featured__middle-section__price\"><strong>Rp 9 Juta /m²</strong></div><button class=\"card-featured__middle-section__installment\"><svg height=\"18px\" viewbox=\"0 0 16 20\" width=\"18px\"><use fill=\"#2951a3\" xlink:href=\"#nrui-calculator-v2\"></use></svg><span>Simulasi KPR</span><svg class=\"arrow\" height=\"17px\" viewbox=\"0 0 16 17\" width=\"16px\"><use fill=\"#2951a3\" xlink:href=\"#nrui-arrow-left-small\"></use></svg></button><a href=\"/properti/bandung/las2718436/\" target=\"_blank\" title=\"Tanah Sersan Bajuri Kawasan Prime\"><h2>Tanah Sersan Bajuri Kawasan Prime</h2></a><span>Parongpong, Bandung</span><div class=\"card-featured__middle-section__attribute\"><div class=\"attribute-info\"> : <span>565 m²</span></div></div><img alt=\"Discovery Bandung logo\" decoding=\"sync\" loading=\"lazy\" src=\"https://pic.rumah123.com/r123/170x170-fit/logo/20210831043415_discovery_property_bandung.png\"/><p>SPESIFIKASI : LUAS TANAH : 565m2 LEBAR MUKA : 15m2 SHM TANAH INI TERLETAK DI AREA KAWASAN KOMERSIL...</p></div>,\n",
       " <div class=\"card-featured__middle-section\" data-test-id=\"card-middle-section\"><div class=\"card-featured__middle-section__header\"><div class=\"card-featured__middle-section__header-badge\"><div data-test-id=\"badge-depth\">Tanah</div><div class=\"featured\" data-test-id=\"badge-depth\">Featured</div></div></div><div class=\"card-featured__middle-section__price\"><strong>Rp 13,5 Juta /m²</strong></div><button class=\"card-featured__middle-section__installment\"><svg height=\"18px\" viewbox=\"0 0 16 20\" width=\"18px\"><use fill=\"#2951a3\" xlink:href=\"#nrui-calculator-v2\"></use></svg><span>Simulasi KPR</span><svg class=\"arrow\" height=\"17px\" viewbox=\"0 0 16 17\" width=\"16px\"><use fill=\"#2951a3\" xlink:href=\"#nrui-arrow-left-small\"></use></svg></button><a href=\"/properti/bandung/las3883511/\" target=\"_blank\" title=\"Tanah Mekar Wangi jarang ada bentuk kotak cluster favorit mekarwangi\"><h2>Tanah Mekar Wangi jarang ada bentuk kotak cluster favorit mekarwangi</h2></a><span>Mekar Wangi, Bandung</span><div class=\"card-featured__middle-section__attribute\"><div class=\"attribute-info\"> : <span>118 m²</span></div></div><img alt=\"Bild logo\" decoding=\"sync\" loading=\"lazy\" src=\"https://pic.rumah123.com/r123/170x170-fit/logo/20180509111922_bild.jpeg\"/><p>keunggulan kavling ini 1. cluster favourite 2. sekeliling sudah dibenteng 3. bentuk kotak ideal 4....</p></div>,\n",
       " <div class=\"card-featured__middle-section\" data-test-id=\"card-middle-section\"><div class=\"card-featured__middle-section__header\"><div class=\"card-featured__middle-section__header-badge\"><div data-test-id=\"badge-depth\">Tanah</div><div class=\"featured\" data-test-id=\"badge-depth\">Featured</div><button class=\"badge-njop\" data-test-id=\"badge-depth\">NJOP<svg fill=\"none\" height=\"13\" viewbox=\"0 0 12 13\" width=\"12\" xmlns=\"http://www.w3.org/2000/svg\"><path d=\"M9.5 8.08325L9.5 5.83325L6 8.33325L2.5 5.83325L2.5 8.08325L6 10.5833L9.5 8.08325Z\" fill=\"white\"></path><path d=\"M9.5 4.58325L9.5 2.33325L6 4.83325L2.5 2.33325L2.5 4.58325L6 7.08325L9.5 4.58325Z\" fill=\"url(#paint0_linear_12195_4251)\"></path><defs><lineargradient gradientunits=\"userSpaceOnUse\" id=\"paint0_linear_12195_4251\" x1=\"9.37549\" x2=\"9.37549\" y1=\"6.70837\" y2=\"1.83337\"><stop stop-color=\"white\"></stop><stop offset=\"1\" stop-color=\"white\" stop-opacity=\"0\"></stop></lineargradient></defs></svg></button></div></div><div class=\"card-featured__middle-section__price\"><strong>Rp 50 Miliar Total</strong></div><button class=\"card-featured__middle-section__installment\"><svg height=\"18px\" viewbox=\"0 0 16 20\" width=\"18px\"><use fill=\"#2951a3\" xlink:href=\"#nrui-calculator-v2\"></use></svg><span>Simulasi KPR</span><svg class=\"arrow\" height=\"17px\" viewbox=\"0 0 16 17\" width=\"16px\"><use fill=\"#2951a3\" xlink:href=\"#nrui-arrow-left-small\"></use></svg></button><a href=\"/properti/bandung/las3772486/\" target=\"_blank\" title=\"Kavling Harga Dibawah Njop Cocok Untuk Commercial Area Jl. Ahmad Yani\"><h2>Kavling Harga Dibawah Njop Cocok Untuk Commercial Area Jl. Ahmad Yani</h2></a><span>Kiaracondong, Bandung</span><div class=\"card-featured__middle-section__attribute\"><div class=\"attribute-info\"> : <span>4015 m²</span></div></div><img alt=\"Prestige Property &amp; Living logo\" decoding=\"sync\" loading=\"lazy\" src=\"https://pic.rumah123.com/r123/170x170-fit/logo/20220525032738_prestige_property__living.jpeg\"/><p>Kavling Dijual di Jl. Ahmad Yani Cocok untuk Hotel, Apart, Showroom, Toko Baju Muslim dan Kantor...</p></div>,\n",
       " <div class=\"card-featured__middle-section\" data-test-id=\"card-middle-section\"><div class=\"card-featured__middle-section__header\"><div class=\"card-featured__middle-section__header-badge\"><div data-test-id=\"badge-depth\">Tanah</div><div class=\"featured\" data-test-id=\"badge-depth\">Featured</div></div></div><div class=\"card-featured__middle-section__price\"><strong>Rp 4,6 Miliar Total</strong></div><button class=\"card-featured__middle-section__installment\"><svg height=\"18px\" viewbox=\"0 0 16 20\" width=\"18px\"><use fill=\"#2951a3\" xlink:href=\"#nrui-calculator-v2\"></use></svg><span>Simulasi KPR</span><svg class=\"arrow\" height=\"17px\" viewbox=\"0 0 16 17\" width=\"16px\"><use fill=\"#2951a3\" xlink:href=\"#nrui-arrow-left-small\"></use></svg></button><a href=\"/properti/bandung/las4000260/\" target=\"_blank\" title=\"Tanah BONUS rumah di Jalan Raya setiabudi, bandung\"><h2>Tanah BONUS rumah di Jalan Raya setiabudi, bandung</h2></a><span>Setiabudi, Bandung</span><div class=\"card-featured__middle-section__attribute\"><div class=\"attribute-info\"> : <span>303 m²</span></div></div><img alt=\"Ray White Riau Bandung logo\" decoding=\"sync\" loading=\"lazy\" src=\"https://pic.rumah123.com/r123/170x170-fit/logo/20230126051859_ray_white_riau.jpeg\"/><p>DIJUAL TANAH BONUS rumah...</p></div>,\n",
       " <div class=\"card-featured__middle-section\" data-test-id=\"card-middle-section\"><div class=\"card-featured__middle-section__header\"><div class=\"card-featured__middle-section__header-badge\"><div data-test-id=\"badge-depth\">Tanah</div><div class=\"featured\" data-test-id=\"badge-depth\">Featured</div></div></div><div class=\"card-featured__middle-section__price\"><strong>Rp 2,5 Juta /m²</strong></div><button class=\"card-featured__middle-section__installment\"><svg height=\"18px\" viewbox=\"0 0 16 20\" width=\"18px\"><use fill=\"#2951a3\" xlink:href=\"#nrui-calculator-v2\"></use></svg><span>Simulasi KPR</span><svg class=\"arrow\" height=\"17px\" viewbox=\"0 0 16 17\" width=\"16px\"><use fill=\"#2951a3\" xlink:href=\"#nrui-arrow-left-small\"></use></svg></button><a href=\"/properti/bandung/las3971765/\" target=\"_blank\" title=\"Tanah Jalan Provinsi sebagian sudah padat, siapa bangun\"><h2>Tanah Jalan Provinsi sebagian sudah padat, siapa bangun</h2></a><span>Gede Bage, Bandung</span><div class=\"card-featured__middle-section__attribute\"><div class=\"attribute-info\"> : <span>12000 m²</span></div></div><img alt=\"Ray White Riau Bandung logo\" decoding=\"sync\" loading=\"lazy\" src=\"https://pic.rumah123.com/r123/170x170-fit/logo/20230126051859_ray_white_riau.jpeg\"/><p>Dijual Tanah...</p></div>,\n",
       " <div class=\"card-featured__middle-section\" data-test-id=\"card-middle-section\"><div class=\"card-featured__middle-section__header\"><div class=\"card-featured__middle-section__header-badge\"><div data-test-id=\"badge-depth\">Tanah</div><div class=\"featured\" data-test-id=\"badge-depth\">Featured</div></div></div><div class=\"card-featured__middle-section__price\"><strong>Rp 15 Juta /m²</strong></div><button class=\"card-featured__middle-section__installment\"><svg height=\"18px\" viewbox=\"0 0 16 20\" width=\"18px\"><use fill=\"#2951a3\" xlink:href=\"#nrui-calculator-v2\"></use></svg><span>Simulasi KPR</span><svg class=\"arrow\" height=\"17px\" viewbox=\"0 0 16 17\" width=\"16px\"><use fill=\"#2951a3\" xlink:href=\"#nrui-arrow-left-small\"></use></svg></button><a href=\"/properti/bandung/las3978797/\" target=\"_blank\" title=\"Kavling Tanah Setra Ria Jarang Ada Bandung\"><h2>Kavling Tanah Setra Ria Jarang Ada Bandung</h2></a><span>Setra Sari, Bandung</span><div class=\"card-featured__middle-section__attribute\"><div class=\"attribute-info\"> : <span>647 m²</span></div></div><img alt=\"Discovery Bandung logo\" decoding=\"sync\" loading=\"lazy\" src=\"https://pic.rumah123.com/r123/170x170-fit/logo/20210831043415_discovery_property_bandung.png\"/><p>Kavling Setra Ria Jarang ada Luas Tanah 647 m2 Lebar Muka 16 Kotak Harga 15 Jt/m For More Information...</p></div>,\n",
       " <div class=\"card-featured__middle-section\" data-test-id=\"card-middle-section\"><div class=\"card-featured__middle-section__header\"><div class=\"card-featured__middle-section__header-badge\"><div data-test-id=\"badge-depth\">Tanah</div><div class=\"featured\" data-test-id=\"badge-depth\">Featured</div></div></div><div class=\"card-featured__middle-section__price\"><strong>Rp 18 Juta /m²</strong></div><button class=\"card-featured__middle-section__installment\"><svg height=\"18px\" viewbox=\"0 0 16 20\" width=\"18px\"><use fill=\"#2951a3\" xlink:href=\"#nrui-calculator-v2\"></use></svg><span>Simulasi KPR</span><svg class=\"arrow\" height=\"17px\" viewbox=\"0 0 16 17\" width=\"16px\"><use fill=\"#2951a3\" xlink:href=\"#nrui-arrow-left-small\"></use></svg></button><a href=\"/properti/bandung/las3361032/\" target=\"_blank\" title=\"Kavling di pusat bisnis kota bandung jawa barat\"><h2>Kavling di pusat bisnis kota bandung jawa barat</h2></a><span>Bandung Kota, Bandung</span><div class=\"card-featured__middle-section__attribute\"><div class=\"attribute-info\"> : <span>10000 m²</span></div></div><p>*DIJUAL KAVLING DAERAH BISNIS DI PUSAT KOTA BANDUNG* Cocok untuk Rumah SaKit (Belum ada ) dan Sekolah....</p></div>,\n",
       " <div class=\"card-featured__middle-section\" data-test-id=\"card-middle-section\"><div class=\"card-featured__middle-section__header\"><div class=\"card-featured__middle-section__header-badge\"><div data-test-id=\"badge-depth\">Tanah</div><div class=\"featured\" data-test-id=\"badge-depth\">Featured</div></div></div><div class=\"card-featured__middle-section__price\"><strong>Rp 17 Juta /m²</strong></div><button class=\"card-featured__middle-section__installment\"><svg height=\"18px\" viewbox=\"0 0 16 20\" width=\"18px\"><use fill=\"#2951a3\" xlink:href=\"#nrui-calculator-v2\"></use></svg><span>Simulasi KPR</span><svg class=\"arrow\" height=\"17px\" viewbox=\"0 0 16 17\" width=\"16px\"><use fill=\"#2951a3\" xlink:href=\"#nrui-arrow-left-small\"></use></svg></button><a href=\"/properti/bandung/las4004062/\" target=\"_blank\" title=\"Hitung Tanah Rumah Taman Anggrek Dekat Mall Festival Citylink\"><h2>Hitung Tanah Rumah Taman Anggrek Dekat Mall Festival Citylink</h2></a><span>Peta, Bandung</span><div class=\"card-featured__middle-section__attribute\"><div class=\"attribute-info\"> : <span>453 m²</span></div></div><img alt=\"Discovery Bandung logo\" decoding=\"sync\" loading=\"lazy\" src=\"https://pic.rumah123.com/r123/170x170-fit/logo/20210831043415_discovery_property_bandung.png\"/><p>Lokasi di Jalan Peta, dekat Mall Festival Citylink,Peta Park,Hotel Harris, Hotel Grand Pasundan Dekat...</p></div>,\n",
       " <div class=\"card-featured__middle-section\" data-test-id=\"card-middle-section\"><div class=\"card-featured__middle-section__header\"><div class=\"card-featured__middle-section__header-badge\"><div data-test-id=\"badge-depth\">Tanah</div><div class=\"featured\" data-test-id=\"badge-depth\">Featured</div></div></div><div class=\"card-featured__middle-section__price\"><strong>Rp 10 Juta /m²</strong></div><button class=\"card-featured__middle-section__installment\"><svg height=\"18px\" viewbox=\"0 0 16 20\" width=\"18px\"><use fill=\"#2951a3\" xlink:href=\"#nrui-calculator-v2\"></use></svg><span>Simulasi KPR</span><svg class=\"arrow\" height=\"17px\" viewbox=\"0 0 16 17\" width=\"16px\"><use fill=\"#2951a3\" xlink:href=\"#nrui-arrow-left-small\"></use></svg></button><a href=\"/properti/bandung/las4009323/\" target=\"_blank\" title=\"Kavling Komplek Cigadung,Sayap Dago,Siap Bangun Kotak Lingkungan Bagus Dekat Ke Itb\"><h2>Kavling Komplek Cigadung,Sayap Dago,Siap Bangun Kotak Lingkungan Bagus Dekat Ke Itb</h2></a><span>Cigadung, Bandung</span><div class=\"card-featured__middle-section__attribute\"><div class=\"attribute-info\"> : <span>210 m²</span></div></div><img alt=\"Hutama Realty logo\" decoding=\"sync\" loading=\"lazy\" src=\"https://pic.rumah123.com/r123/170x170-fit/logo/20240108114548_hutama_realty.jpeg\"/><p>Dijual Tanah Matang Siap Bangun Cigadung Sayap Dago Bandung Utara Lingkungan Bagus Sejuk Asri Dekat...</p></div>,\n",
       " <div class=\"card-featured__middle-section\" data-test-id=\"card-middle-section\"><div class=\"card-featured__middle-section__header\"><div class=\"card-featured__middle-section__header-badge\"><div data-test-id=\"badge-depth\">Tanah</div><div class=\"featured\" data-test-id=\"badge-depth\">Featured</div><button class=\"badge-njop\" data-test-id=\"badge-depth\">NJOP<svg fill=\"none\" height=\"13\" viewbox=\"0 0 12 13\" width=\"12\" xmlns=\"http://www.w3.org/2000/svg\"><path d=\"M9.5 8.08325L9.5 5.83325L6 8.33325L2.5 5.83325L2.5 8.08325L6 10.5833L9.5 8.08325Z\" fill=\"white\"></path><path d=\"M9.5 4.58325L9.5 2.33325L6 4.83325L2.5 2.33325L2.5 4.58325L6 7.08325L9.5 4.58325Z\" fill=\"url(#paint0_linear_12195_4251)\"></path><defs><lineargradient gradientunits=\"userSpaceOnUse\" id=\"paint0_linear_12195_4251\" x1=\"9.37549\" x2=\"9.37549\" y1=\"6.70837\" y2=\"1.83337\"><stop stop-color=\"white\"></stop><stop offset=\"1\" stop-color=\"white\" stop-opacity=\"0\"></stop></lineargradient></defs></svg></button></div></div><div class=\"card-featured__middle-section__price\"><strong>Rp 1,4 Miliar Total</strong></div><button class=\"card-featured__middle-section__installment\"><svg height=\"18px\" viewbox=\"0 0 16 20\" width=\"18px\"><use fill=\"#2951a3\" xlink:href=\"#nrui-calculator-v2\"></use></svg><span>Simulasi KPR</span><svg class=\"arrow\" height=\"17px\" viewbox=\"0 0 16 17\" width=\"16px\"><use fill=\"#2951a3\" xlink:href=\"#nrui-arrow-left-small\"></use></svg></button><a href=\"/properti/bandung/las3980735/\" target=\"_blank\" title=\"Kavling di bawah NJOP di Kota Bandung !!!\"><h2>Kavling di bawah NJOP di Kota Bandung !!!</h2></a><span>Gardu Jati, Bandung</span><div class=\"card-featured__middle-section__attribute\"><div class=\"attribute-info\"> : <span>238 m²</span></div></div><img alt=\"Xavier Marks Estate Signet logo\" decoding=\"sync\" loading=\"lazy\" src=\"https://pic.rumah123.com/r123/170x170-fit/logo/20211125033916_xavier_marks_realty_signet.jpeg\"/><p>Kavling Pusat Kota Bandung di daerah Gardujati, Harga 50% NJOP Harga turun dari 10jt/m2 sekarang...</p></div>,\n",
       " <div class=\"card-featured__middle-section\" data-test-id=\"card-middle-section\"><div class=\"card-featured__middle-section__header\"><div class=\"card-featured__middle-section__header-badge\"><div data-test-id=\"badge-depth\">Tanah</div><div class=\"featured\" data-test-id=\"badge-depth\">Featured</div></div></div><div class=\"card-featured__middle-section__price\"><strong>Rp 11,5 Juta /m²</strong></div><button class=\"card-featured__middle-section__installment\"><svg height=\"18px\" viewbox=\"0 0 16 20\" width=\"18px\"><use fill=\"#2951a3\" xlink:href=\"#nrui-calculator-v2\"></use></svg><span>Simulasi KPR</span><svg class=\"arrow\" height=\"17px\" viewbox=\"0 0 16 17\" width=\"16px\"><use fill=\"#2951a3\" xlink:href=\"#nrui-arrow-left-small\"></use></svg></button><a href=\"/properti/bandung/las4004209/\" target=\"_blank\" title=\"Tanah Murah Mekar Wangi Bandung SHM Bisa Displit One Gate System\"><h2>Tanah Murah Mekar Wangi Bandung SHM Bisa Displit One Gate System</h2></a><span>Mekar Wangi, Bandung</span><div class=\"card-featured__middle-section__attribute\"><div class=\"attribute-info\"> : <span>675 m²</span></div></div><img alt=\"Bild logo\" decoding=\"sync\" loading=\"lazy\" src=\"https://pic.rumah123.com/r123/170x170-fit/logo/20180509111922_bild.jpeg\"/><p>Tanah Mekar Wangi Bandung One gate system Tembok sekeliling sudah dibenteng 3,2 m Boleh beli 1 kavling...</p></div>,\n",
       " <div class=\"card-featured__middle-section\" data-test-id=\"card-middle-section\"><div class=\"card-featured__middle-section__header\"><div class=\"card-featured__middle-section__header-badge\"><div data-test-id=\"badge-depth\">Tanah</div><div class=\"featured\" data-test-id=\"badge-depth\">Featured</div></div></div><div class=\"card-featured__middle-section__price\"><strong>Rp 4 Juta /m²</strong></div><button class=\"card-featured__middle-section__installment\"><svg height=\"18px\" viewbox=\"0 0 16 20\" width=\"18px\"><use fill=\"#2951a3\" xlink:href=\"#nrui-calculator-v2\"></use></svg><span>Simulasi KPR</span><svg class=\"arrow\" height=\"17px\" viewbox=\"0 0 16 17\" width=\"16px\"><use fill=\"#2951a3\" xlink:href=\"#nrui-arrow-left-small\"></use></svg></button><a href=\"/properti/bandung/las3994144/\" target=\"_blank\" title=\"Tanah di Ciganitri Bandung, Bandung 3.900 m²\"><h2>Tanah di Ciganitri Bandung, Bandung 3.900 m²</h2></a><span>Bojongsoang, Bandung</span><div class=\"card-featured__middle-section__attribute\"><div class=\"attribute-info\"> : <span>3900 m²</span></div></div><img alt=\"One Realty logo\" decoding=\"sync\" loading=\"lazy\" src=\"https://pic.rumah123.com/r123/170x170-fit/logo/20180412052609_one_realty.jpeg\"/><p>Dijual Tanah Luas di ciganitri Bojongsoang buahbatu, Cocok untuk Ruko,Klinik,Office,Rumah Kost,cluster...</p></div>,\n",
       " <div class=\"card-featured__middle-section\" data-test-id=\"card-middle-section\"><div class=\"card-featured__middle-section__header\"><div class=\"card-featured__middle-section__header-badge\"><div data-test-id=\"badge-depth\">Tanah</div><div class=\"featured\" data-test-id=\"badge-depth\">Featured</div></div></div><div class=\"card-featured__middle-section__price\"><strong>Rp 4 Juta /m²</strong></div><button class=\"card-featured__middle-section__installment\"><svg height=\"18px\" viewbox=\"0 0 16 20\" width=\"18px\"><use fill=\"#2951a3\" xlink:href=\"#nrui-calculator-v2\"></use></svg><span>Simulasi KPR</span><svg class=\"arrow\" height=\"17px\" viewbox=\"0 0 16 17\" width=\"16px\"><use fill=\"#2951a3\" xlink:href=\"#nrui-arrow-left-small\"></use></svg></button><a href=\"/properti/bandung/las3989821/\" target=\"_blank\" title=\" Tanah di Ciganitri Bojongsoang,Buah Batu Bandung, Margahayu\"><h2> Tanah di Ciganitri Bojongsoang,Buah Batu Bandung, Margahayu</h2></a><span>Margahayu, Bandung</span><div class=\"card-featured__middle-section__attribute\"><div class=\"attribute-info\"> : <span>3900 m²</span></div></div><img alt=\"One Realty logo\" decoding=\"sync\" loading=\"lazy\" src=\"https://pic.rumah123.com/r123/170x170-fit/logo/20180412052609_one_realty.jpeg\"/><p>*Dijual* *Tanah Luas di ciganitri Bojongsoang buahbatu,* Cocok untuk Ruko,Klinik,Office,Rumah Kost,cluster...</p></div>]"
      ]
     },
     "execution_count": 46,
     "metadata": {},
     "output_type": "execute_result"
    }
   ],
   "source": [
    "client = httpx.AsyncClient(timeout=timeout)\n",
    "r = await client.get(\"https://www.rumah123.com/jual/bandung/tanah/\", params={'page':3})\n",
    "await client.aclose()\n",
    "soup = BeautifulSoup(r.text, \"html.parser\")\n",
    "divs = soup.find_all('div', class_='card-featured__middle-section')\n",
    "divs"
   ]
  },
  {
   "cell_type": "code",
   "execution_count": null,
   "id": "7e0ca33b",
   "metadata": {},
   "outputs": [],
   "source": []
  }
 ],
 "metadata": {
  "kernelspec": {
   "display_name": "Python 3 (ipykernel)",
   "language": "python",
   "name": "python3"
  },
  "language_info": {
   "codemirror_mode": {
    "name": "ipython",
    "version": 3
   },
   "file_extension": ".py",
   "mimetype": "text/x-python",
   "name": "python",
   "nbconvert_exporter": "python",
   "pygments_lexer": "ipython3",
   "version": "3.12.4"
  }
 },
 "nbformat": 4,
 "nbformat_minor": 5
}
