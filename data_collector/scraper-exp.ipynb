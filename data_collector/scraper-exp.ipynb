{
 "cells": [
  {
   "cell_type": "code",
   "execution_count": 9,
   "id": "22668955-963a-499a-8c1d-be99203679a3",
   "metadata": {},
   "outputs": [],
   "source": [
    "import httpx\n",
    "import pandas as pd\n",
    "from bs4 import BeautifulSoup\n",
    "\n",
    "from data_collector.utils import to_df"
   ]
  },
  {
   "cell_type": "code",
   "execution_count": 6,
   "id": "2d366112",
   "metadata": {},
   "outputs": [],
   "source": [
    "timeout = httpx.Timeout(5, read=10)\n",
    "params = dict()\n",
    "async with httpx.AsyncClient(timeout=timeout) as client:\n",
    "    for i in range(2):\n",
    "        params['page'] = i\n",
    "        r = await client.get(\"https://www.rumah123.com/jual/bandung/tanah/\", params=params)\n",
    "        soup = BeautifulSoup(r.text, \"html.parser\")\n",
    "        divs = soup.find_all('div', class_='card-featured__middle-section')\n",
    "        df = to_df(divs)\n",
    "        df.to_csv('csv/house_price_temp.csv', mode='a', index=False, header=False)"
   ]
  },
  {
   "cell_type": "code",
   "execution_count": 3,
   "id": "d15eb382",
   "metadata": {},
   "outputs": [
    {
     "data": {
      "text/plain": [
       "'Tanah Murah Strategis Dalam Komplek Antapani Bandung'"
      ]
     },
     "execution_count": 3,
     "metadata": {},
     "output_type": "execute_result"
    }
   ],
   "source": [
    "df.iloc[1,5]"
   ]
  },
  {
   "cell_type": "code",
   "execution_count": 29,
   "id": "d5f9846a",
   "metadata": {},
   "outputs": [
    {
     "data": {
      "text/plain": [
       "'Rp 12,9 Juta /m²'"
      ]
     },
     "execution_count": 29,
     "metadata": {},
     "output_type": "execute_result"
    }
   ],
   "source": [
    "import re\n",
    "d = pd.read_csv('csv/house_price_raw.csv', header=None)\n",
    "\n",
    "x = d.iloc[3,0]\n",
    "x"
   ]
  },
  {
   "cell_type": "code",
   "execution_count": 30,
   "id": "0ec943b5",
   "metadata": {},
   "outputs": [],
   "source": [
    "result = re.search(r'Rp.(.*?)/m²', x).group(1)"
   ]
  },
  {
   "cell_type": "code",
   "execution_count": 32,
   "id": "e453800b",
   "metadata": {},
   "outputs": [
    {
     "data": {
      "text/html": [
       "<div>\n",
       "<style scoped>\n",
       "    .dataframe tbody tr th:only-of-type {\n",
       "        vertical-align: middle;\n",
       "    }\n",
       "\n",
       "    .dataframe tbody tr th {\n",
       "        vertical-align: top;\n",
       "    }\n",
       "\n",
       "    .dataframe thead th {\n",
       "        text-align: right;\n",
       "    }\n",
       "</style>\n",
       "<table border=\"1\" class=\"dataframe\">\n",
       "  <thead>\n",
       "    <tr style=\"text-align: right;\">\n",
       "      <th></th>\n",
       "      <th>0</th>\n",
       "      <th>1</th>\n",
       "      <th>2</th>\n",
       "      <th>3</th>\n",
       "      <th>4</th>\n",
       "      <th>5</th>\n",
       "    </tr>\n",
       "  </thead>\n",
       "  <tbody>\n",
       "    <tr>\n",
       "      <th>0</th>\n",
       "      <td>Rp 11,5 Miliar Total</td>\n",
       "      <td>Sukajadi, Bandung</td>\n",
       "      <td>1085 m²</td>\n",
       "      <td>NaN</td>\n",
       "      <td>/properti/bandung/las3963062/</td>\n",
       "      <td>1,085 M2 Tanah Rumah Sangat Strategis di Mulya...</td>\n",
       "    </tr>\n",
       "    <tr>\n",
       "      <th>1</th>\n",
       "      <td>Rp 7 Juta /m²</td>\n",
       "      <td>Antapani, Bandung</td>\n",
       "      <td>168 m²</td>\n",
       "      <td>Pakar Mulia Property logo</td>\n",
       "      <td>/properti/bandung/las3736997/</td>\n",
       "      <td>Tanah Murah Strategis Dalam Komplek Antapani B...</td>\n",
       "    </tr>\n",
       "    <tr>\n",
       "      <th>2</th>\n",
       "      <td>Rp 9,7 Juta /m²</td>\n",
       "      <td>Kota Baru Parahyangan, Bandung</td>\n",
       "      <td>377 m²</td>\n",
       "      <td>Beyond Property Indonesia logo</td>\n",
       "      <td>/properti/bandung/las3996256/</td>\n",
       "      <td>Tanah Termurah Dengan Luas Kecil Disisi Danau,...</td>\n",
       "    </tr>\n",
       "    <tr>\n",
       "      <th>3</th>\n",
       "      <td>Rp 12,9 Juta /m²</td>\n",
       "      <td>Setra Duta, Bandung</td>\n",
       "      <td>270 m²</td>\n",
       "      <td>Discovery Bandung logo</td>\n",
       "      <td>/properti/bandung/las3997051/</td>\n",
       "      <td>Tanah Setraduta Area Depan Jarang Ada</td>\n",
       "    </tr>\n",
       "    <tr>\n",
       "      <th>4</th>\n",
       "      <td>Rp 7,5 Miliar Total</td>\n",
       "      <td>Derwati, Bandung</td>\n",
       "      <td>1442 m²</td>\n",
       "      <td>NaN</td>\n",
       "      <td>/properti/bandung/las3913416/</td>\n",
       "      <td>Cepat di Bawah Harga Pasar Tanah di Derwati Ba...</td>\n",
       "    </tr>\n",
       "  </tbody>\n",
       "</table>\n",
       "</div>"
      ],
      "text/plain": [
       "                      0                               1        2  \\\n",
       "0  Rp 11,5 Miliar Total               Sukajadi, Bandung  1085 m²   \n",
       "1         Rp 7 Juta /m²               Antapani, Bandung   168 m²   \n",
       "2       Rp 9,7 Juta /m²  Kota Baru Parahyangan, Bandung   377 m²   \n",
       "3      Rp 12,9 Juta /m²             Setra Duta, Bandung   270 m²   \n",
       "4   Rp 7,5 Miliar Total                Derwati, Bandung  1442 m²   \n",
       "\n",
       "                                3                              4  \\\n",
       "0                             NaN  /properti/bandung/las3963062/   \n",
       "1       Pakar Mulia Property logo  /properti/bandung/las3736997/   \n",
       "2  Beyond Property Indonesia logo  /properti/bandung/las3996256/   \n",
       "3          Discovery Bandung logo  /properti/bandung/las3997051/   \n",
       "4                             NaN  /properti/bandung/las3913416/   \n",
       "\n",
       "                                                   5  \n",
       "0  1,085 M2 Tanah Rumah Sangat Strategis di Mulya...  \n",
       "1  Tanah Murah Strategis Dalam Komplek Antapani B...  \n",
       "2  Tanah Termurah Dengan Luas Kecil Disisi Danau,...  \n",
       "3              Tanah Setraduta Area Depan Jarang Ada  \n",
       "4  Cepat di Bawah Harga Pasar Tanah di Derwati Ba...  "
      ]
     },
     "execution_count": 32,
     "metadata": {},
     "output_type": "execute_result"
    }
   ],
   "source": [
    "d.head()"
   ]
  },
  {
   "cell_type": "code",
   "execution_count": null,
   "id": "66e9a473",
   "metadata": {},
   "outputs": [],
   "source": []
  }
 ],
 "metadata": {
  "kernelspec": {
   "display_name": "Python 3 (ipykernel)",
   "language": "python",
   "name": "python3"
  },
  "language_info": {
   "codemirror_mode": {
    "name": "ipython",
    "version": 3
   },
   "file_extension": ".py",
   "mimetype": "text/x-python",
   "name": "python",
   "nbconvert_exporter": "python",
   "pygments_lexer": "ipython3",
   "version": "3.12.4"
  }
 },
 "nbformat": 4,
 "nbformat_minor": 5
}
